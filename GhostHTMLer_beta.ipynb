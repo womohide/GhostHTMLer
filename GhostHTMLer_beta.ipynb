{
 "cells": [
  {
   "cell_type": "code",
   "execution_count": 56,
   "metadata": {},
   "outputs": [],
   "source": [
    "import os\n",
    "import shutil"
   ]
  },
  {
   "cell_type": "code",
   "execution_count": 57,
   "metadata": {},
   "outputs": [],
   "source": [
    "#name of raw text must be \"YYMMDD_title.txt\"\n",
    "#when daily,title is title of daily article\n",
    "#when article review, title is title of article\n",
    "#when book review, title is book title"
   ]
  },
  {
   "cell_type": "code",
   "execution_count": 58,
   "metadata": {},
   "outputs": [],
   "source": [
    "def getcurrentlist():\n",
    "    pypath=os.path.dirname(os.path.abspath(__file__))\n",
    "    return pypath"
   ]
  },
  {
   "cell_type": "code",
   "execution_count": 85,
   "metadata": {},
   "outputs": [],
   "source": [
    "def check_newfiles(rawd,listxt):\n",
    "    newlist=[fina for fina in [filename for filename in os.listdir(rawd) if \".txt\" in filename] if not fina.startswith('.')]\n",
    "    with open(listxt) as f:\n",
    "        noldlist = f.readlines()\n",
    "    oldlist=[ffi.replace(\"\\n\",\"\") for ffi in noldlist]    \n",
    "    newones=list(set(newlist)-set(oldlist))\n",
    "    return newones"
   ]
  },
  {
   "cell_type": "code",
   "execution_count": 71,
   "metadata": {},
   "outputs": [],
   "source": [
    "def replace_link(strl):\n",
    "    for i in range(strl.count(\"](\")):\n",
    "        word=strl.split('](')[0].split('[')[-1]\n",
    "        link=strl.split('](')[1].split(')')[0]\n",
    "        newstrl='<a href=\"%s\">[%s]</a>'%(link,word)\n",
    "        strl=strl.replace(\"[%s](%s)\"%(word,link),newstrl)\n",
    "    while strl.count(\"***\") != 0:\n",
    "        strl=strl.replace('***','<em><strong>',1)\n",
    "        strl=strl.replace('***','</strong></em>',1)\n",
    "    while strl.count(\"**\") != 0:\n",
    "        strl=strl.replace('**','<strong>',1)\n",
    "        strl=strl.replace('**','</strong>',1)\n",
    "    while strl.count(\"*\") != 0:\n",
    "        strl=strl.replace('*','<em>',1)\n",
    "        strl=strl.replace('*','</em>',1)\n",
    "    return strl"
   ]
  },
  {
   "cell_type": "code",
   "execution_count": 72,
   "metadata": {},
   "outputs": [],
   "source": [
    "def replace_i_b(strl):\n",
    "    word=strl.split('***')[0].split('[')[-1]\n",
    "    link=strl.split('](')[1].split(')')[0]\n",
    "    newstrl='<a href=\"%s\">[%s]</a>'%(link,word)\n",
    "    strl=strl.replace(\"[%s](%s)\"%(word,link),newstrl)\n",
    "    return strl"
   ]
  },
  {
   "cell_type": "code",
   "execution_count": 62,
   "metadata": {},
   "outputs": [],
   "source": [
    "def make_contents(rawtxtpath):\n",
    "    txtname = os.path.splitext(rawtxtpath.split(\"/\")[-1])[0]\n",
    "    daten=txtname.split(\"_\")[0]\n",
    "    articlen=txtname.split(\"_\")[1] \n",
    "    category=rawtxtpath.split(\"/\")[-3]\n",
    "    with open(rawtxtpath) as rawt:\n",
    "        rt = rawt.readlines()\n",
    "    rt_replace=[replace_link(li.replace(\"\\n\",\"<br>\")) for li in rt]\n",
    "    pcon = str(rt_replace[0])\n",
    "    for lin in range(len(rt_replace)):\n",
    "        if lin == 0:\n",
    "            pass\n",
    "        else:\n",
    "            pcon+=str(rt_replace[lin])   \n",
    "    \n",
    "    return category,daten,articlen,pcon,txtname"
   ]
  },
  {
   "cell_type": "code",
   "execution_count": 63,
   "metadata": {},
   "outputs": [],
   "source": [
    "def make_newhtml(category,date,title,pcon,pypath,txtn):\n",
    "    ldate=\"20\"+str(date)[0]+str(date)[1]+\"/\"+str(date)[2]+str(date)[3]+\"/\"+str(date)[4]+str(date)[5]\n",
    "    if category == \"article_review\":\n",
    "        basehtml = pypath+\"/docs/article_review/basehtml/ar_base.html\"\n",
    "        listhtml = pypath+\"/docs/article_review.html\"\n",
    "        listxtpath = pypath+\"/docs/article_review/arlist.txt\"\n",
    "        newartipath = pypath+\"/docs/article_review/ar_%s_%s.html\"%(date,title)\n",
    "        newarelpath = \"article_review/ar_%s_%s.html\"%(date,title)\n",
    "        caten = \"論文解説\"\n",
    "    elif category == 'book_review':\n",
    "        basehtml = pypath+\"/docs/book_review/basehtml/br_base.html\"\n",
    "        listhtml = pypath+\"/docs/book_review.html\"\n",
    "        listxtpath = pypath+\"/docs/book_review/brlist.txt\"\n",
    "        newartipath = pypath+\"/docs/book_review/br_%s_%s.html\"%(date,title)\n",
    "        newarelpath = \"book_review/br_%s_%s.html\"%(date,title)\n",
    "        caten = \"書評\"\n",
    "    elif category == \"lsit\":\n",
    "        basehtml = pypath+\"/docs/list/basehtml/l_base.html\"\n",
    "        listhtml = pypath+\"/docs/list.html\"\n",
    "        listxtpath = pypath+\"/docs/list/llist.txt\"\n",
    "        newartipath = pypath+\"/docs/list/dl_%s_%s.html\"%(date,title)\n",
    "        newarelpath = \"list/dl_%s_%s.html\"%(date,title)\n",
    "        caten = \"日報\"\n",
    "    else:\n",
    "        pass\n",
    "    ltitle = '[%s][%s]%s'%(date,caten,title)\n",
    "    ltitle2 = '[%s]%s'%(caten,title)\n",
    "    with open(basehtml) as f:\n",
    "        article = f.readlines()\n",
    "    article_replace = [l.replace('titleinsertion', title) for l in [ll.replace(\"pcontents\",pcon) for ll in article]]\n",
    "    with open(newartipath, mode = 'w') as ff:\n",
    "        ff.writelines(article_replace)\n",
    "    with open(listxtpath, mode = \"a\") as fff:\n",
    "        fff.write(txtn+\"\\n\")\n",
    "    with open(listhtml) as f4:\n",
    "        listht = f4.readlines()\n",
    "    listht.insert(25,'            <li><a href=\"%s\">%s</a></li>\\n'%(newarelpath,ltitle))\n",
    "    with open(listhtml, mode = 'w') as f5:\n",
    "        f5.writelines(listht)\n",
    "    with open(pypath+\"/docs/index.html\") as f6:\n",
    "        indexhtml = f6.readlines()\n",
    "    if len(indexhtml) >= 42:\n",
    "        del indexhtml[31:33]\n",
    "    indexhtml.insert(27,\"          <dt>%s</dt>\\n\"%(ldate))\n",
    "    indexhtml.insert(28,'          <dd><a href=\"%s\">%s</a></dd>\\n'%(newarelpath,ltitle2))\n",
    "    with open(pypath+\"/docs/index.html\", mode = 'w') as f7:\n",
    "        f7.writelines(indexhtml)"
   ]
  },
  {
   "cell_type": "code",
   "execution_count": 64,
   "metadata": {},
   "outputs": [],
   "source": [
    "pypath=\"/Users/ahiram/GoogleDrive/GitHub/Diary/womohideDiary\"\n",
    "#pypath=getcurrentlist()"
   ]
  },
  {
   "cell_type": "code",
   "execution_count": 65,
   "metadata": {},
   "outputs": [],
   "source": [
    "artrawd=pypath+(\"/docs/article_review/raw\")\n",
    "arlistp=pypath+(\"/docs/article_review/arlist.txt\")\n",
    "brtrawd=pypath+(\"/docs/book_review/raw\")\n",
    "brlistp=pypath+(\"/docs/book_review/brlist.txt\")\n",
    "ltrawd=pypath+(\"/docs/list/raw\")\n",
    "llistp=pypath+(\"/docs/list/llist.txt\")\n",
    "rawd=pypath+(\"/docs/rawtxt\")"
   ]
  },
  {
   "cell_type": "code",
   "execution_count": 13,
   "metadata": {},
   "outputs": [],
   "source": [
    "newone=check_newfiles(artrawd,arlistp)\n",
    "if len(newone) !=0:\n",
    "    for ne in newone:\n",
    "        shutil.copy2(os.path.join(artrawd,ne),os.path.join(rawd,ne))\n",
    "        category,daten,articlen,pcon,ttn = make_contents(os.path.join(artrawd,ne))\n",
    "        make_newhtml(category,daten,articlen,pcon,pypath,ttn)\n",
    "newone=check_newfiles(brtrawd,brlistp)\n",
    "if len(newone) !=0:\n",
    "    for ne in newone:\n",
    "        shutil.copy2(os.path.join(brtrawd,ne),os.path.join(rawd,ne))\n",
    "        category,daten,articlen,pcon,ttn = make_contents(os.path.join(brtrawd,ne))\n",
    "        make_newhtml(category,daten,articlen,pcon,pypath,ttn)\n",
    "newone=check_newfiles(ltrawd,llistp)\n",
    "if len(newone) !=0:\n",
    "    for ne in newone:\n",
    "        shutil.copy2(os.path.join(ltrawd,ne),os.path.join(rawd,ne))\n",
    "        category,daten,articlen,pcon,ttn = make_contents(os.path.join(ltrawd,ne))\n",
    "        make_newhtml(category,daten,articlen,pcon,pypath,ttn)"
   ]
  },
  {
   "cell_type": "code",
   "execution_count": 50,
   "metadata": {},
   "outputs": [],
   "source": [
    "asa = 'This is *italic* and **bold** then *** bolditalic*** ***ohayou*** ,[aaaa]and [XXXXX](YYYY),[zzzzzz](rererer).'"
   ]
  },
  {
   "cell_type": "code",
   "execution_count": 33,
   "metadata": {},
   "outputs": [
    {
     "data": {
      "text/plain": [
       "'XXXXX'"
      ]
     },
     "execution_count": 33,
     "metadata": {},
     "output_type": "execute_result"
    }
   ],
   "source": [
    "asa.split('](')[0].split(\"[\")[-1]"
   ]
  },
  {
   "cell_type": "code",
   "execution_count": 35,
   "metadata": {},
   "outputs": [
    {
     "data": {
      "text/plain": [
       "'YYYY'"
      ]
     },
     "execution_count": 35,
     "metadata": {},
     "output_type": "execute_result"
    }
   ],
   "source": [
    "asa.split('](')[1].split(\")\")[0]"
   ]
  },
  {
   "cell_type": "code",
   "execution_count": 36,
   "metadata": {},
   "outputs": [
    {
     "data": {
      "text/plain": [
       "2"
      ]
     },
     "execution_count": 36,
     "metadata": {},
     "output_type": "execute_result"
    }
   ],
   "source": [
    "asa.count(\"](\")"
   ]
  },
  {
   "cell_type": "code",
   "execution_count": 38,
   "metadata": {},
   "outputs": [],
   "source": []
  },
  {
   "cell_type": "code",
   "execution_count": 48,
   "metadata": {},
   "outputs": [
    {
     "data": {
      "text/plain": [
       "'ohayou'"
      ]
     },
     "execution_count": 48,
     "metadata": {},
     "output_type": "execute_result"
    }
   ],
   "source": [
    "asa.split(\"***\")[3]"
   ]
  },
  {
   "cell_type": "code",
   "execution_count": 51,
   "metadata": {},
   "outputs": [],
   "source": [
    "sa=replace_link(asa)"
   ]
  },
  {
   "cell_type": "code",
   "execution_count": 52,
   "metadata": {},
   "outputs": [
    {
     "data": {
      "text/plain": [
       "'This is <em>italic</em> and <strong>bold</strong> then <em><strong> bolditalic</em></strong> <em><strong>ohayou</em></strong> ,[aaaa]and <a href=\"YYYY\">[XXXXX]</a>,<a href=\"rererer\">[zzzzzz]</a>.'"
      ]
     },
     "execution_count": 52,
     "metadata": {},
     "output_type": "execute_result"
    }
   ],
   "source": [
    "sa"
   ]
  },
  {
   "cell_type": "code",
   "execution_count": 86,
   "metadata": {},
   "outputs": [
    {
     "name": "stdout",
     "output_type": "stream",
     "text": [
      "['190416_ブログの自動生成プログラムの作成test1.txt'] n\n",
      "['', '190416_ブログの自動生成プログラムの作成test1.txt', '190416_ブログの自動生成プログラムの作成test1.txt'] o\n"
     ]
    }
   ],
   "source": [
    "newone=check_newfiles(artrawd,arlistp)"
   ]
  },
  {
   "cell_type": "code",
   "execution_count": 87,
   "metadata": {},
   "outputs": [
    {
     "data": {
      "text/plain": [
       "[]"
      ]
     },
     "execution_count": 87,
     "metadata": {},
     "output_type": "execute_result"
    }
   ],
   "source": [
    "newone"
   ]
  },
  {
   "cell_type": "code",
   "execution_count": 80,
   "metadata": {},
   "outputs": [],
   "source": [
    "a=\"190416_ブログの自動生成プログラムの作成test1.txt\\n\""
   ]
  },
  {
   "cell_type": "code",
   "execution_count": 81,
   "metadata": {},
   "outputs": [
    {
     "data": {
      "text/plain": [
       "'190416_ブログの自動生成プログラムの作成test1.txt'"
      ]
     },
     "execution_count": 81,
     "metadata": {},
     "output_type": "execute_result"
    }
   ],
   "source": [
    "a.replace(\"\\n\",\"\")"
   ]
  },
  {
   "cell_type": "code",
   "execution_count": 82,
   "metadata": {},
   "outputs": [
    {
     "data": {
      "text/html": [
       "<style>.container { width:100% !important; }</style>"
      ],
      "text/plain": [
       "<IPython.core.display.HTML object>"
      ]
     },
     "metadata": {},
     "output_type": "display_data"
    }
   ],
   "source": [
    "from IPython.core.display import display, HTML \n",
    "display(HTML(\"<style>.container { width:100% !important; }</style>\")) "
   ]
  },
  {
   "cell_type": "code",
   "execution_count": null,
   "metadata": {},
   "outputs": [],
   "source": []
  }
 ],
 "metadata": {
  "kernelspec": {
   "display_name": "kanon",
   "language": "python",
   "name": "kanon"
  },
  "language_info": {
   "codemirror_mode": {
    "name": "ipython",
    "version": 3
   },
   "file_extension": ".py",
   "mimetype": "text/x-python",
   "name": "python",
   "nbconvert_exporter": "python",
   "pygments_lexer": "ipython3",
   "version": "3.6.6"
  }
 },
 "nbformat": 4,
 "nbformat_minor": 2
}
