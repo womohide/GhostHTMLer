{
 "cells": [
  {
   "cell_type": "code",
   "execution_count": 112,
   "metadata": {},
   "outputs": [],
   "source": [
    "with open(\"/Users/ahiram/GoogleDrive/GitHub/Diary/GhostHTMLer/[20190412][論文紹介][journal title].txt\") as rawt:\n",
    "    rawtxt = rawt.readlines()"
   ]
  },
  {
   "cell_type": "code",
   "execution_count": 200,
   "metadata": {},
   "outputs": [],
   "source": [
    "pa=\"/Users/ahiram/GoogleDrive/GitHub/Diary/GhostHTMLer/docs/article_review/raw/190411_title2.txt\""
   ]
  },
  {
   "cell_type": "code",
   "execution_count": 238,
   "metadata": {},
   "outputs": [],
   "source": [
    "ff=os.path.split(pa)[0]"
   ]
  },
  {
   "cell_type": "code",
   "execution_count": 239,
   "metadata": {},
   "outputs": [
    {
     "data": {
      "text/plain": [
       "'/Users/ahiram/GoogleDrive/GitHub/Diary/GhostHTMLer/docs/article_review/raw'"
      ]
     },
     "execution_count": 239,
     "metadata": {},
     "output_type": "execute_result"
    }
   ],
   "source": [
    "ff"
   ]
  },
  {
   "cell_type": "code",
   "execution_count": 225,
   "metadata": {},
   "outputs": [],
   "source": [
    "fin=pa.split(\"/\")[-3]"
   ]
  },
  {
   "cell_type": "code",
   "execution_count": 226,
   "metadata": {},
   "outputs": [
    {
     "data": {
      "text/plain": [
       "'article_review'"
      ]
     },
     "execution_count": 226,
     "metadata": {},
     "output_type": "execute_result"
    }
   ],
   "source": [
    "fin"
   ]
  },
  {
   "cell_type": "code",
   "execution_count": 172,
   "metadata": {},
   "outputs": [],
   "source": [
    "root_ext_pair = os.path.splitext(pa.split(\"/\")[-1])[0]"
   ]
  },
  {
   "cell_type": "code",
   "execution_count": 173,
   "metadata": {},
   "outputs": [
    {
     "data": {
      "text/plain": [
       "'190411_title2_doi:10.1101.597351'"
      ]
     },
     "execution_count": 173,
     "metadata": {},
     "output_type": "execute_result"
    }
   ],
   "source": [
    "root_ext_pair"
   ]
  },
  {
   "cell_type": "code",
   "execution_count": 163,
   "metadata": {},
   "outputs": [
    {
     "data": {
      "text/plain": [
       "'article_review'"
      ]
     },
     "execution_count": 163,
     "metadata": {},
     "output_type": "execute_result"
    }
   ],
   "source": [
    "pa.split(\"/\")[-3]"
   ]
  },
  {
   "cell_type": "code",
   "execution_count": 113,
   "metadata": {},
   "outputs": [
    {
     "data": {
      "text/plain": [
       "['date:20190412\\n',\n",
       " 'category:article_review\\n',\n",
       " 'title:abcdefg\\n',\n",
       " 'doi or :xxxxx.yyyyyy\\n',\n",
       " 'tag:development\\n',\n",
       " '\\n',\n",
       " '#####\\n',\n",
       " '\\n',\n",
       " 'ごはんは\\n',\n",
       " '食事。\\n']"
      ]
     },
     "execution_count": 113,
     "metadata": {},
     "output_type": "execute_result"
    }
   ],
   "source": [
    "rawtxt"
   ]
  },
  {
   "cell_type": "code",
   "execution_count": 79,
   "metadata": {},
   "outputs": [],
   "source": [
    "date=rawtxt[0].split(\":\")[1].split(\"\\n\")[0]"
   ]
  },
  {
   "cell_type": "code",
   "execution_count": 80,
   "metadata": {},
   "outputs": [],
   "source": [
    "category=rawtxt[1].split(\":\")[1].split(\"\\n\")[0]"
   ]
  },
  {
   "cell_type": "code",
   "execution_count": 83,
   "metadata": {},
   "outputs": [],
   "source": [
    "if category ==\"article_review\":\n",
    "    title = \"[論文紹介]\"+rawtxt[2].split(\":\")[1].split(\"\\n\")[0]"
   ]
  },
  {
   "cell_type": "code",
   "execution_count": 84,
   "metadata": {},
   "outputs": [],
   "source": [
    "doi = rawtxt[3].split(\":\")[1].split(\"\\n\")[0]\n",
    "contents = \"pipipi\""
   ]
  },
  {
   "cell_type": "code",
   "execution_count": 85,
   "metadata": {},
   "outputs": [
    {
     "data": {
      "text/plain": [
       "'xxxxx.yyyyyy'"
      ]
     },
     "execution_count": 85,
     "metadata": {},
     "output_type": "execute_result"
    }
   ],
   "source": [
    "doi"
   ]
  },
  {
   "cell_type": "code",
   "execution_count": 87,
   "metadata": {},
   "outputs": [
    {
     "data": {
      "text/plain": [
       "10"
      ]
     },
     "execution_count": 87,
     "metadata": {},
     "output_type": "execute_result"
    }
   ],
   "source": [
    "len(rawtxt)"
   ]
  },
  {
   "cell_type": "code",
   "execution_count": 115,
   "metadata": {},
   "outputs": [
    {
     "data": {
      "text/plain": [
       "['\\n', 'ごはんは\\n', '食事。\\n']"
      ]
     },
     "execution_count": 115,
     "metadata": {},
     "output_type": "execute_result"
    }
   ],
   "source": [
    "rawtxt"
   ]
  },
  {
   "cell_type": "code",
   "execution_count": 114,
   "metadata": {},
   "outputs": [],
   "source": [
    "del rawtxt[0:7]"
   ]
  },
  {
   "cell_type": "code",
   "execution_count": 229,
   "metadata": {},
   "outputs": [],
   "source": [
    "def make_contents(rawtxtpath):\n",
    "    doin=None\n",
    "    txtname = os.path.splitext(rawtxtpath.split(\"/\")[-1])[0]\n",
    "    daten=txtname.split(\"_\")[0]\n",
    "    articlen=txtname.split(\"_\")[1] \n",
    "    category=rawtxtpath.split(\"/\")[-3]\n",
    "    with open(rawtxtpath) as rawt:\n",
    "        rt = rawt.readlines()\n",
    "    rt_replace=[li.replace(\"\\n\",\"<br>\") for li in rt]\n",
    "    if category == \"article_review\":\n",
    "        doin = str(rt_replace[0])\n",
    "        pcon = str(rt_replace[0])\n",
    "        for lin in range(len(rt_replace)):\n",
    "            if lin == 0:\n",
    "                pass\n",
    "            elif lin ==1:\n",
    "                pcon = str(rt_replace[lin])\n",
    "            else:\n",
    "                pcon+=str(rt_replace[lin])\n",
    "    \n",
    "    if category == \"book_review\":\n",
    "        for lin in range(len(rt_replace)):\n",
    "            if lin == 0:\n",
    "                pcon = str(rt_replace[lin])\n",
    "            else:\n",
    "                pcon+=str(rt_replace[lin])   \n",
    "    \n",
    "    return daten,doin,articlen,pcon"
   ]
  },
  {
   "cell_type": "code",
   "execution_count": 230,
   "metadata": {},
   "outputs": [
    {
     "ename": "SyntaxError",
     "evalue": "invalid syntax (<ipython-input-230-a2c89cb346dc>, line 1)",
     "output_type": "error",
     "traceback": [
      "\u001b[0;36m  File \u001b[0;32m\"<ipython-input-230-a2c89cb346dc>\"\u001b[0;36m, line \u001b[0;32m1\u001b[0m\n\u001b[0;31m    https://doi.org/10.1038/s41586-019-1024-7\u001b[0m\n\u001b[0m           ^\u001b[0m\n\u001b[0;31mSyntaxError\u001b[0m\u001b[0;31m:\u001b[0m invalid syntax\n"
     ]
    }
   ],
   "source": [
    "https://doi.org/10.1038/s41586-019-1024-7"
   ]
  },
  {
   "cell_type": "code",
   "execution_count": 231,
   "metadata": {},
   "outputs": [],
   "source": [
    "a1,a2,a3,a4 = make_contents(pa)"
   ]
  },
  {
   "cell_type": "code",
   "execution_count": 232,
   "metadata": {},
   "outputs": [
    {
     "data": {
      "text/plain": [
       "'a<br>b<br>c<br>d<br>f<br>g<br>h<br>s'"
      ]
     },
     "execution_count": 232,
     "metadata": {},
     "output_type": "execute_result"
    }
   ],
   "source": [
    "a4"
   ]
  },
  {
   "cell_type": "code",
   "execution_count": 104,
   "metadata": {},
   "outputs": [],
   "source": [
    "a=\"#####\" in rawtxt[6]"
   ]
  },
  {
   "cell_type": "code",
   "execution_count": 106,
   "metadata": {},
   "outputs": [
    {
     "name": "stdout",
     "output_type": "stream",
     "text": [
      "s\n"
     ]
    }
   ],
   "source": [
    "if a == True:\n",
    "    print(\"s\")"
   ]
  },
  {
   "cell_type": "code",
   "execution_count": 140,
   "metadata": {},
   "outputs": [],
   "source": [
    "contents = make_pcontenrs(rawtxt)"
   ]
  },
  {
   "cell_type": "code",
   "execution_count": 142,
   "metadata": {},
   "outputs": [
    {
     "data": {
      "text/plain": [
       "'<'"
      ]
     },
     "execution_count": 142,
     "metadata": {},
     "output_type": "execute_result"
    }
   ],
   "source": [
    "contents"
   ]
  },
  {
   "cell_type": "code",
   "execution_count": 92,
   "metadata": {},
   "outputs": [
    {
     "name": "stdout",
     "output_type": "stream",
     "text": [
      "0\n",
      "1\n",
      "2\n",
      "3\n",
      "4\n",
      "5\n"
     ]
    }
   ],
   "source": [
    "for i in range(10):\n",
    "    if i == 5:\n",
    "        print(i)\n",
    "        break\n",
    "    print(i)"
   ]
  },
  {
   "cell_type": "code",
   "execution_count": 86,
   "metadata": {},
   "outputs": [
    {
     "data": {
      "text/plain": [
       "'[論文紹介]abcdefg'"
      ]
     },
     "execution_count": 86,
     "metadata": {},
     "output_type": "execute_result"
    }
   ],
   "source": [
    "title"
   ]
  },
  {
   "cell_type": "code",
   "execution_count": 47,
   "metadata": {},
   "outputs": [],
   "source": [
    "newartipath=\"/Users/ahiram/GoogleDrive/GitHub/Diary/womohideDiary/docs/article_review/test_review.html\""
   ]
  },
  {
   "cell_type": "code",
   "execution_count": 125,
   "metadata": {},
   "outputs": [],
   "source": [
    "with open(\"/Users/ahiram/GoogleDrive/GitHub/Diary/womohideDiary/docs/article_review/article_review.html\") as f:\n",
    "    article = f.readlines()"
   ]
  },
  {
   "cell_type": "code",
   "execution_count": 126,
   "metadata": {
    "scrolled": true
   },
   "outputs": [
    {
     "data": {
      "text/plain": [
       "['<!DOCTYPE html>\\n',\n",
       " '<html lang=ja>\\n',\n",
       " '  <head>\\n',\n",
       " '    <meta charset=\"utf-8\">\\n',\n",
       " '    <title>ヲモヒデ倶楽部日報</title>\\n',\n",
       " '    <link rel=\"stylesheet\" href=\"../css/style.css\">\\n',\n",
       " '  </head>\\n',\n",
       " '  <body>\\n',\n",
       " '    <div id=\"page\">\\n',\n",
       " '      <div id=\"title\">\\n',\n",
       " '        <a href=\"../index.html\"><img src=\"../images/logo/logomini.png\" alt=\"ヲモヒデ倶楽部日報\"></a>\\n',\n",
       " '      </div>\\n',\n",
       " '      <div id=\"navi\">\\n',\n",
       " '        <p class=\"navi\"><a href=\"../index.html\">HOME</a></p>\\n',\n",
       " '        <p class=\"navi\"><a href=\"../profile.html\">Profile</a></p>\\n',\n",
       " '        <p class=\"navi\"><a href=\"../list.html\">日報一覧</a></p>\\n',\n",
       " '        <p class=\"current\"><a href=\"../article_review.html\">論文Review一覧</a></p>\\n',\n",
       " '        <p class=\"navi\"><a href=\"../book_review.html\">書評一覧</a></p>\\n',\n",
       " '        <p class=\"navi\"><a href=\"../neuroscience.html\">神経科学要論</a></p>\\n',\n",
       " '        <p class=\"navi\"><a href=\"../contact.html\">contact</a></p>\\n',\n",
       " '      </div>\\n',\n",
       " '      \\n',\n",
       " '      <div id=contents>\\n',\n",
       " '        <h1>titleinsertion</h1>\\n',\n",
       " '        <p>pcontents</p>\\n',\n",
       " '      </div>\\n',\n",
       " '      \\n',\n",
       " '      <div id=\"footer\">\\n',\n",
       " '        <small>&copy;2019 ヲモヒデ倶楽部. All Riights Reserved.</small>\\n',\n",
       " '      </div>\\n',\n",
       " '    </div>\\n',\n",
       " '  </body>\\n',\n",
       " '</html>\\n']"
      ]
     },
     "execution_count": 126,
     "metadata": {},
     "output_type": "execute_result"
    }
   ],
   "source": [
    "article"
   ]
  },
  {
   "cell_type": "code",
   "execution_count": 145,
   "metadata": {},
   "outputs": [],
   "source": [
    "article_replace = [l.replace('titleinsertion', title) for l in [ll.replace(\"pcontents\",contents) for ll in article]]"
   ]
  },
  {
   "cell_type": "code",
   "execution_count": 270,
   "metadata": {},
   "outputs": [
    {
     "name": "stdout",
     "output_type": "stream",
     "text": [
      "<a href=\"190411_title2.txt\">[190411_title2.txt]</a>\n"
     ]
    }
   ],
   "source": [
    "print('<a href=\"%s\">[%s]</a>'%(a[0],a[0]))"
   ]
  },
  {
   "cell_type": "code",
   "execution_count": 283,
   "metadata": {},
   "outputs": [],
   "source": [
    "with open(\"/Users/ahiram/GoogleDrive/GitHub/Diary/GhostHTMLer/docs/article_review/raw/190411_title2.txt\") as aaa:\n",
    "    moto = aaa.readlines()"
   ]
  },
  {
   "cell_type": "code",
   "execution_count": 303,
   "metadata": {},
   "outputs": [],
   "source": [
    "moto2=[replace_link(line) for line in moto]"
   ]
  },
  {
   "cell_type": "code",
   "execution_count": 302,
   "metadata": {},
   "outputs": [],
   "source": [
    "def replace_link(strl):\n",
    "    if len(strl.split(\"](\")) == 2:\n",
    "        word=strl.split('](')[0].split('[')[-1]\n",
    "        link=strl.split('](')[1].split(')')[0]\n",
    "        newstrl='<a href=\"%s\">[%s]</a>'%(link,word)\n",
    "        strl=strl.replace(\"[%s](%s)\"%(word,link),newstrl)\n",
    "    return strl"
   ]
  },
  {
   "cell_type": "code",
   "execution_count": 296,
   "metadata": {},
   "outputs": [],
   "source": [
    "c=replace_link(b)"
   ]
  },
  {
   "cell_type": "code",
   "execution_count": 297,
   "metadata": {},
   "outputs": [
    {
     "name": "stdout",
     "output_type": "stream",
     "text": [
      "<a href=\"https://doi.org/10.1038/s41586-019-1024-7\">[lhiujkln]</a>\n",
      "\n",
      "a\n",
      "\n",
      "b\n",
      "\n",
      "c\n",
      "\n",
      "d\n",
      "\n",
      "fbkjblhiujkln5<a href=\"https://doi.org/10.1038/s41586-019-1024-7\">[7t6ut]</a>khunjli\n",
      "\n",
      "g\n",
      "\n",
      "h\n",
      "\n",
      "s\n"
     ]
    }
   ],
   "source": [
    "for i in range(len(moto)):\n",
    "    nmoto=replace_link(moto[i])\n",
    "    print(nmoto)"
   ]
  },
  {
   "cell_type": "code",
   "execution_count": 301,
   "metadata": {},
   "outputs": [
    {
     "data": {
      "text/plain": [
       "'s'"
      ]
     },
     "execution_count": 301,
     "metadata": {},
     "output_type": "execute_result"
    }
   ],
   "source": [
    "nmoto"
   ]
  },
  {
   "cell_type": "code",
   "execution_count": 304,
   "metadata": {},
   "outputs": [
    {
     "data": {
      "text/plain": [
       "['<a href=\"https://doi.org/10.1038/s41586-019-1024-7\">[lhiujkln]</a>\\n',\n",
       " 'a\\n',\n",
       " 'b\\n',\n",
       " 'c\\n',\n",
       " 'd\\n',\n",
       " 'fbkjblhiujkln5<a href=\"https://doi.org/10.1038/s41586-019-1024-7\">[7t6ut]</a>khunjli\\n',\n",
       " 'g\\n',\n",
       " 'h\\n',\n",
       " 's']"
      ]
     },
     "execution_count": 304,
     "metadata": {},
     "output_type": "execute_result"
    }
   ],
   "source": [
    "moto2"
   ]
  },
  {
   "cell_type": "code",
   "execution_count": 271,
   "metadata": {},
   "outputs": [],
   "source": [
    "b='caefarv[test](https://womohide.club)grfrgs'"
   ]
  },
  {
   "cell_type": "code",
   "execution_count": 278,
   "metadata": {},
   "outputs": [
    {
     "data": {
      "text/plain": [
       "1"
      ]
     },
     "execution_count": 278,
     "metadata": {},
     "output_type": "execute_result"
    }
   ],
   "source": [
    "len(b.split(\"xc\"))"
   ]
  },
  {
   "cell_type": "code",
   "execution_count": 275,
   "metadata": {},
   "outputs": [
    {
     "data": {
      "text/plain": [
       "'test'"
      ]
     },
     "execution_count": 275,
     "metadata": {},
     "output_type": "execute_result"
    }
   ],
   "source": [
    "b.split('](')[0].split('[')[-1]"
   ]
  },
  {
   "cell_type": "code",
   "execution_count": 276,
   "metadata": {},
   "outputs": [
    {
     "data": {
      "text/plain": [
       "'https://womohide.club'"
      ]
     },
     "execution_count": 276,
     "metadata": {},
     "output_type": "execute_result"
    }
   ],
   "source": [
    "b.split('](')[1].split(')')[0]"
   ]
  },
  {
   "cell_type": "code",
   "execution_count": 146,
   "metadata": {},
   "outputs": [
    {
     "data": {
      "text/plain": [
       "['<!DOCTYPE html>\\n',\n",
       " '<html lang=ja>\\n',\n",
       " '  <head>\\n',\n",
       " '    <meta charset=\"utf-8\">\\n',\n",
       " '    <title>ヲモヒデ倶楽部日報</title>\\n',\n",
       " '    <link rel=\"stylesheet\" href=\"../css/style.css\">\\n',\n",
       " '  </head>\\n',\n",
       " '  <body>\\n',\n",
       " '    <div id=\"page\">\\n',\n",
       " '      <div id=\"title\">\\n',\n",
       " '        <a href=\"../index.html\"><img src=\"../images/logo/logomini.png\" alt=\"ヲモヒデ倶楽部日報\"></a>\\n',\n",
       " '      </div>\\n',\n",
       " '      <div id=\"navi\">\\n',\n",
       " '        <p class=\"navi\"><a href=\"../index.html\">HOME</a></p>\\n',\n",
       " '        <p class=\"navi\"><a href=\"../profile.html\">Profile</a></p>\\n',\n",
       " '        <p class=\"navi\"><a href=\"../list.html\">日報一覧</a></p>\\n',\n",
       " '        <p class=\"current\"><a href=\"../article_review.html\">論文Review一覧</a></p>\\n',\n",
       " '        <p class=\"navi\"><a href=\"../book_review.html\">書評一覧</a></p>\\n',\n",
       " '        <p class=\"navi\"><a href=\"../neuroscience.html\">神経科学要論</a></p>\\n',\n",
       " '        <p class=\"navi\"><a href=\"../contact.html\">contact</a></p>\\n',\n",
       " '      </div>\\n',\n",
       " '      \\n',\n",
       " '      <div id=contents>\\n',\n",
       " '        <h1>[論文紹介]abcdefg</h1>\\n',\n",
       " '        <p><br>ごはんは<br>食事。<br></p>\\n',\n",
       " '      </div>\\n',\n",
       " '      \\n',\n",
       " '      <div id=\"footer\">\\n',\n",
       " '        <small>&copy;2019 ヲモヒデ倶楽部. All Riights Reserved.</small>\\n',\n",
       " '      </div>\\n',\n",
       " '    </div>\\n',\n",
       " '  </body>\\n',\n",
       " '</html>\\n']"
      ]
     },
     "execution_count": 146,
     "metadata": {},
     "output_type": "execute_result"
    }
   ],
   "source": [
    "article_replace"
   ]
  },
  {
   "cell_type": "code",
   "execution_count": 147,
   "metadata": {},
   "outputs": [],
   "source": [
    "with open(newartipath, mode='w') as f:\n",
    "    f.write('\\n'.join(article_replace))"
   ]
  },
  {
   "cell_type": "code",
   "execution_count": 149,
   "metadata": {},
   "outputs": [],
   "source": [
    "import os"
   ]
  },
  {
   "cell_type": "code",
   "execution_count": 152,
   "metadata": {},
   "outputs": [
    {
     "ename": "NameError",
     "evalue": "name '__file__' is not defined",
     "output_type": "error",
     "traceback": [
      "\u001b[0;31m---------------------------------------------------------------------------\u001b[0m",
      "\u001b[0;31mNameError\u001b[0m                                 Traceback (most recent call last)",
      "\u001b[0;32m<ipython-input-152-880eb789ae8a>\u001b[0m in \u001b[0;36m<module>\u001b[0;34m()\u001b[0m\n\u001b[0;32m----> 1\u001b[0;31m \u001b[0mos\u001b[0m\u001b[0;34m.\u001b[0m\u001b[0mpath\u001b[0m\u001b[0;34m.\u001b[0m\u001b[0mdirname\u001b[0m\u001b[0;34m(\u001b[0m\u001b[0mos\u001b[0m\u001b[0;34m.\u001b[0m\u001b[0mpath\u001b[0m\u001b[0;34m.\u001b[0m\u001b[0mabspath\u001b[0m\u001b[0;34m(\u001b[0m\u001b[0m__file__\u001b[0m\u001b[0;34m)\u001b[0m\u001b[0;34m)\u001b[0m\u001b[0;34m\u001b[0m\u001b[0m\n\u001b[0m",
      "\u001b[0;31mNameError\u001b[0m: name '__file__' is not defined"
     ]
    }
   ],
   "source": [
    "os.path.dirname(os.path.abspath(__file__))"
   ]
  },
  {
   "cell_type": "code",
   "execution_count": null,
   "metadata": {},
   "outputs": [],
   "source": [
    "\"/Users/ahiram/GoogleDrive/GitHub/Diary/GhostHTMLer/docs/article_review/raw/\""
   ]
  },
  {
   "cell_type": "code",
   "execution_count": 248,
   "metadata": {},
   "outputs": [
    {
     "data": {
      "text/plain": [
       "['190411_title2.txt', '190412_title1_doi:11.1111.111111.txt']"
      ]
     },
     "execution_count": 248,
     "metadata": {},
     "output_type": "execute_result"
    }
   ],
   "source": [
    "a"
   ]
  },
  {
   "cell_type": "code",
   "execution_count": 245,
   "metadata": {},
   "outputs": [],
   "source": [
    "a=[filename for filename in os.listdir(ff) if \".txt\" in filename]"
   ]
  },
  {
   "cell_type": "code",
   "execution_count": 247,
   "metadata": {},
   "outputs": [],
   "source": [
    "a=[fina for fina in [filename for filename in os.listdir(ff) if \".txt\" in filename] if not fina.startswith('.')]"
   ]
  },
  {
   "cell_type": "code",
   "execution_count": null,
   "metadata": {},
   "outputs": [],
   "source": [
    "def check_newfiles(rawd,listxt):\n",
    "    oldlist=[fina for fina in [filename for filename in os.listdir(rawd) if \".txt\" in filename] if not fina.startswith('.')]\n",
    "    with open(listxt) as f:\n",
    "        newlist = f.readlines()\n",
    "    newones=list(set(oldlist)^set(newlist))\n",
    "    return newones"
   ]
  },
  {
   "cell_type": "code",
   "execution_count": 249,
   "metadata": {},
   "outputs": [],
   "source": [
    "listx=\"/Users/ahiram/GoogleDrive/GitHub/Diary/GhostHTMLer/docs/article_review/arlist.txt\""
   ]
  },
  {
   "cell_type": "code",
   "execution_count": 250,
   "metadata": {},
   "outputs": [],
   "source": [
    "with open(listx) as f:\n",
    "    al = f.readlines()"
   ]
  },
  {
   "cell_type": "code",
   "execution_count": 251,
   "metadata": {
    "scrolled": true
   },
   "outputs": [
    {
     "data": {
      "text/plain": [
       "['190411_title2.txt']"
      ]
     },
     "execution_count": 251,
     "metadata": {},
     "output_type": "execute_result"
    }
   ],
   "source": [
    "al"
   ]
  },
  {
   "cell_type": "code",
   "execution_count": 253,
   "metadata": {},
   "outputs": [],
   "source": [
    "c=set(a)^set(al)"
   ]
  },
  {
   "cell_type": "code",
   "execution_count": 258,
   "metadata": {},
   "outputs": [
    {
     "data": {
      "text/plain": [
       "'190412_title1_doi:11.1111.111111.txt'"
      ]
     },
     "execution_count": 258,
     "metadata": {},
     "output_type": "execute_result"
    }
   ],
   "source": [
    "list(c)"
   ]
  },
  {
   "cell_type": "code",
   "execution_count": 255,
   "metadata": {},
   "outputs": [
    {
     "name": "stdout",
     "output_type": "stream",
     "text": [
      "Variable          Type             Data/Info\n",
      "--------------------------------------------\n",
      "a                 list             n=2\n",
      "a1                str              190411\n",
      "a2                str              https://doi.org/10.1038/s41586-019-1024-7<br>\n",
      "a3                str              title2\n",
      "a4                str              a<br>b<br>c<br>d<br>f<br>g<br>h<br>s\n",
      "al                list             n=1\n",
      "article           list             n=33\n",
      "article_replace   list             n=33\n",
      "ax                list             n=0\n",
      "c                 set              {'190412_title1_doi:11.1111.111111.txt'}\n",
      "category          str              article_review\n",
      "contents          str              <br>ごはんは<br>食事。<br>\n",
      "data              str              20190412\n",
      "date              str              20190412\n",
      "doi               str              xxxxx.yyyyyy\n",
      "f                 TextIOWrapper    <_io.TextIOWrapper name='<...>ode='r' encoding='UTF-8'>\n",
      "ff                str              /Users/ahiram/GoogleDrive<...>r/docs/article_review/raw\n",
      "fin               str              article_review\n",
      "i                 int              5\n",
      "inf               list             n=3\n",
      "line              str              </html>\\n\n",
      "listx             str              /Users/ahiram/GoogleDrive<...>article_review/arlist.txt\n",
      "make_contents     function         <function make_contents at 0x10af189d8>\n",
      "make_pcontenrs    function         <function make_pcontenrs at 0x10afeab70>\n",
      "newartipath       str              /Users/ahiram/GoogleDrive<...>e_review/test_review.html\n",
      "os                module           <module 'os' from '/Users<...>non/lib/python3.6/os.py'>\n",
      "pa                str              /Users/ahiram/GoogleDrive<...>iew/raw/190411_title2.txt\n",
      "path              module           <module 'path' from '/Use<...>ary/GhostHTMLer/path.py'>\n",
      "rawt              TextIOWrapper    <_io.TextIOWrapper name='<...>ode='r' encoding='UTF-8'>\n",
      "rawtxt            list             n=3\n",
      "raxtxt            list             n=10\n",
      "root_ext_pair     str              190411_title2_doi:10.1101.597351\n",
      "s                 list             n=33\n",
      "s_replace         list             n=33\n",
      "test_data         TextIOWrapper    <_io.TextIOWrapper name='<...>ode='r' encoding='UTF-8'>\n",
      "title             str              [論文紹介]abcdefg\n",
      "xx                list             n=3\n"
     ]
    }
   ],
   "source": [
    "%whos"
   ]
  },
  {
   "cell_type": "code",
   "execution_count": 153,
   "metadata": {},
   "outputs": [
    {
     "name": "stdout",
     "output_type": "stream",
     "text": [
      "/Users/ahiram/GoogleDrive/GitHub/Diary/GhostHTMLer\n",
      "a\n"
     ]
    }
   ],
   "source": [
    "import path"
   ]
  },
  {
   "cell_type": "code",
   "execution_count": 155,
   "metadata": {
    "scrolled": true
   },
   "outputs": [
    {
     "ename": "AttributeError",
     "evalue": "module 'path' has no attribute 'getcurrentlist'",
     "output_type": "error",
     "traceback": [
      "\u001b[0;31m---------------------------------------------------------------------------\u001b[0m",
      "\u001b[0;31mAttributeError\u001b[0m                            Traceback (most recent call last)",
      "\u001b[0;32m<ipython-input-155-0a0580507aa7>\u001b[0m in \u001b[0;36m<module>\u001b[0;34m()\u001b[0m\n\u001b[0;32m----> 1\u001b[0;31m \u001b[0mpath\u001b[0m\u001b[0;34m.\u001b[0m\u001b[0mgetcurrentlist\u001b[0m\u001b[0;34m\u001b[0m\u001b[0m\n\u001b[0m",
      "\u001b[0;31mAttributeError\u001b[0m: module 'path' has no attribute 'getcurrentlist'"
     ]
    }
   ],
   "source": [
    "path.getcurrentlist"
   ]
  },
  {
   "cell_type": "code",
   "execution_count": 3,
   "metadata": {},
   "outputs": [],
   "source": [
    "rawtxtpath=\"/Users/ahiram/GoogleDrive/GitHub/Diary/womohideDiary/docs/list/raw/190416_ブログの自動生成プログラムの作成.txt\""
   ]
  },
  {
   "cell_type": "code",
   "execution_count": 8,
   "metadata": {},
   "outputs": [
    {
     "data": {
      "text/plain": [
       "'190416_ブログの自動生成プログラムの作成.txt'"
      ]
     },
     "execution_count": 8,
     "metadata": {},
     "output_type": "execute_result"
    }
   ],
   "source": [
    "rawtxtpath.split(\"/\")[-1]"
   ]
  },
  {
   "cell_type": "code",
   "execution_count": 7,
   "metadata": {},
   "outputs": [
    {
     "ename": "AttributeError",
     "evalue": "module 'os' has no attribute 'split'",
     "output_type": "error",
     "traceback": [
      "\u001b[0;31m---------------------------------------------------------------------------\u001b[0m",
      "\u001b[0;31mAttributeError\u001b[0m                            Traceback (most recent call last)",
      "\u001b[0;32m<ipython-input-7-4bfd412e1663>\u001b[0m in \u001b[0;36m<module>\u001b[0;34m()\u001b[0m\n\u001b[0;32m----> 1\u001b[0;31m \u001b[0mtxtname\u001b[0m \u001b[0;34m=\u001b[0m \u001b[0mos\u001b[0m\u001b[0;34m.\u001b[0m\u001b[0msplit\u001b[0m\u001b[0;34m(\u001b[0m\u001b[0mrawtxtpath\u001b[0m\u001b[0;34m.\u001b[0m\u001b[0msplit\u001b[0m\u001b[0;34m(\u001b[0m\u001b[0;34m\"/\"\u001b[0m\u001b[0;34m)\u001b[0m\u001b[0;34m[\u001b[0m\u001b[0;34m-\u001b[0m\u001b[0;36m1\u001b[0m\u001b[0;34m]\u001b[0m\u001b[0;34m)\u001b[0m\u001b[0;34m\u001b[0m\u001b[0m\n\u001b[0m",
      "\u001b[0;31mAttributeError\u001b[0m: module 'os' has no attribute 'split'"
     ]
    }
   ],
   "source": [
    "txtname = "
   ]
  },
  {
   "cell_type": "code",
   "execution_count": 2,
   "metadata": {},
   "outputs": [],
   "source": [
    "import os \n",
    "import shutil"
   ]
  },
  {
   "cell_type": "code",
   "execution_count": 5,
   "metadata": {},
   "outputs": [
    {
     "data": {
      "text/plain": [
       "'190416_ブログの自動生成プログラムの作成'"
      ]
     },
     "execution_count": 5,
     "metadata": {},
     "output_type": "execute_result"
    }
   ],
   "source": [
    "txtname"
   ]
  },
  {
   "cell_type": "code",
   "execution_count": null,
   "metadata": {},
   "outputs": [],
   "source": []
  }
 ],
 "metadata": {
  "kernelspec": {
   "display_name": "kanon",
   "language": "python",
   "name": "kanon"
  },
  "language_info": {
   "codemirror_mode": {
    "name": "ipython",
    "version": 3
   },
   "file_extension": ".py",
   "mimetype": "text/x-python",
   "name": "python",
   "nbconvert_exporter": "python",
   "pygments_lexer": "ipython3",
   "version": "3.6.6"
  }
 },
 "nbformat": 4,
 "nbformat_minor": 2
}
